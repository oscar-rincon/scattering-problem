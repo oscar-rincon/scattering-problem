{
 "cells": [
  {
   "cell_type": "code",
   "execution_count": null,
   "metadata": {},
   "outputs": [],
   "source": [
    "import numpy as np\n",
    "import matplotlib.pyplot as plt\n",
    "import torch\n",
    "from scipy.stats import qmc\n",
    "import torch.nn as nn\n",
    "import time\n",
    "from pyDOE import lhs\n",
    "from functools import partial  # Higher-order functions and operations on callable objects\n",
    "from pinns import *\n",
    "from plotting import *\n",
    "import warnings\n",
    "# Suppress warnings to keep the output clean\n",
    "warnings.filterwarnings(\"ignore\")\n",
    "\n",
    "\n",
    "def f(model, x_f, y_f, A, k):\n",
    "    # Concatenate x_f and y_f to form the input domain\n",
    "    domain = torch.cat([x_f, y_f], dim=1)\n",
    "    \n",
    "    # Pass the domain through the model to get the output\n",
    "    u = model(domain)\n",
    "    \n",
    "    # Ensure the output has two columns for real and imaginary parts\n",
    "    if u.shape[1] != 2:\n",
    "        raise ValueError(\"The model output must have two columns for real and imaginary parts.\")\n",
    "    \n",
    "    # Extract real and imaginary parts\n",
    "    u_real = u[:, 0]\n",
    "    u_imag = u[:, 1]\n",
    "    \n",
    "    return u_real, u_imag\n",
    "\n",
    "def mse_f(model, x_f, y_f, A, k):\n",
    "    u_real, u_imag = f(model, x_f, y_f, A, k)\n",
    "    \n",
    "    # Calcular la parte real e imaginaria de exp(-1j * k * x_f)\n",
    "    ikx = -1j * k * x_f\n",
    "    exp_ikx_top = torch.exp(ikx)\n",
    "    exp_ikx_top_real = exp_ikx_top.real\n",
    "    exp_ikx_top_imag = exp_ikx_top.imag\n",
    "    \n",
    "    # Calcular el error entre la salida del modelo y la función exponencial\n",
    "    error_real = u_real - exp_ikx_top_real\n",
    "    error_imag = u_imag - exp_ikx_top_imag\n",
    "    \n",
    "    # Calcular el error cuadrático medio\n",
    "    mse = (error_real**2 + error_imag**2).mean()\n",
    "    \n",
    "    return mse\n",
    "\n",
    "def closure(model, optimizer, x_f, y_f, A, k):\n",
    "    optimizer.zero_grad()\n",
    "    loss = mse_f(model, x_f, y_f, A, k)\n",
    "    loss.backward(retain_graph=True)\n",
    "    global iter\n",
    "    iter += 1\n",
    "    if iter % 100 == 0:\n",
    "        print(f\"LBFGS - Loss: {loss.item()}\")\n",
    "    return loss\n",
    "\n",
    "def train_adam(model, x_f, y_f, A, k, num_iter=1_000):\n",
    "\n",
    "    optimizer = torch.optim.Adam(model.parameters(), lr=1e-3)\n",
    "    global iter\n",
    "     \n",
    "    for i in range(1, num_iter + 1):\n",
    "        optimizer.zero_grad()\n",
    "        loss = mse_f(model, x_f, y_f, A, k)  \n",
    "        loss.backward(retain_graph=True)\n",
    "        optimizer.step()\n",
    "        iter += 1\n",
    "        if iter % 100 == 0:\n",
    "            print(f\"Adam - Loss: {loss.item()}\")\n",
    "\n",
    "# Function for L-BFGS training\n",
    "def train_lbfgs(model,x_f, y_f, A, k, num_iter=1_000):\n",
    "\n",
    "    optimizer = torch.optim.LBFGS(model.parameters(),\n",
    "                                    lr=1,\n",
    "                                    max_iter=num_iter,\n",
    "                                    max_eval=num_iter,\n",
    "                                    tolerance_grad=1e-7,\n",
    "                                    history_size=100,\n",
    "                                    tolerance_change=1.0 * np.finfo(float).eps,\n",
    "                                    line_search_fn=\"strong_wolfe\")\n",
    " \n",
    "    closure_fn = partial(closure, model, optimizer, x_f, y_f, A, k)\n",
    "    optimizer.step(closure_fn)\n",
    "            \n",
    "# Define the device\n",
    "device = torch.device('cuda')\n",
    "\n",
    "# Initialize iteration counter\n",
    "iter = 0  \n",
    "\n",
    "# Define the parameters\n",
    "A = 1\n",
    "k = 10\n",
    "\n",
    "# Define lower and upper bounds for the domain\n",
    "lb = np.array([0.0, 0.0])\n",
    "ub = np.array([1.0, 1.0])  \n",
    "\n",
    "# Generate sampling points \n",
    "N_f = 2_000 \n",
    "\n",
    "# Function to generate sampling points\n",
    "def generate_sampling_points(lb, ub, N):\n",
    "    c = lb + (ub - lb) * lhs(2, N)\n",
    "    x = torch.from_numpy(c[:, 0]).float().reshape(-1, 1).to(device)\n",
    "    x.requires_grad = True\n",
    "    y = torch.from_numpy(c[:, 1]).float().reshape(-1, 1).to(device)\n",
    "    y.requires_grad = True\n",
    "    return x, y\n",
    "\n",
    "x_f, y_f = generate_sampling_points(lb, ub, N_f)\n",
    "\n",
    "# Initialize the model with specified parameters and apply weights\n",
    "model = MLP(input_size=2, output_size=2, hidden_layers=5, hidden_units=100, activation_function=nn.Tanh()).to(device)\n",
    "model.apply(init_weights)\n",
    "\n",
    "train_lbfgs(model, x_f, y_f, A, k, num_iter=1000) \n",
    "               "
   ]
  },
  {
   "cell_type": "code",
   "execution_count": 50,
   "metadata": {},
   "outputs": [],
   "source": [
    "def f(model, x_f, y_f, A, k):\n",
    "    # Concatenate x_f and y_f to form the input domain\n",
    "    domain = torch.cat([x_f, y_f], dim=1)\n",
    "    \n",
    "    # Pass the domain through the model to get the output\n",
    "    u = model(domain)\n",
    "    \n",
    "    # Ensure the output has two columns for real and imaginary parts\n",
    "    if u.shape[1] != 2:\n",
    "        raise ValueError(\"The model output must have two columns for real and imaginary parts.\")\n",
    "    \n",
    "    # Extract real and imaginary parts\n",
    "    u_real = u[:, 0]\n",
    "    u_imag = u[:, 1]\n",
    "    \n",
    "    return u_real, u_imag"
   ]
  },
  {
   "cell_type": "code",
   "execution_count": 51,
   "metadata": {},
   "outputs": [],
   "source": [
    "def mse_f(model, x_f, y_f, A, k):\n",
    "    u_real, u_imag = f(model, x_f, y_f, A, k)\n",
    "    \n",
    "    # Calcular la parte real e imaginaria de exp(-1j * k * x_f)\n",
    "    ikx = -1j * k * x_f\n",
    "    exp_ikx_top = torch.exp(ikx)\n",
    "    exp_ikx_top_real = exp_ikx_top.real\n",
    "    exp_ikx_top_imag = exp_ikx_top.imag\n",
    "    \n",
    "    # Calcular el error entre la salida del modelo y la función exponencial\n",
    "    error_real = u_real - exp_ikx_top_real\n",
    "    error_imag = u_imag - exp_ikx_top_imag\n",
    "    \n",
    "    # Calcular el error cuadrático medio\n",
    "    mse = (error_real**2 + error_imag**2).mean()\n",
    "    \n",
    "    return mse"
   ]
  },
  {
   "cell_type": "code",
   "execution_count": 52,
   "metadata": {},
   "outputs": [],
   "source": [
    "def closure(model, optimizer, x_f, y_f, A, k):\n",
    "    optimizer.zero_grad()\n",
    "    loss = mse_f(model, x_f, y_f, A, k)\n",
    "    loss.backward(retain_graph=True)\n",
    "    global iter\n",
    "    iter += 1\n",
    "    if iter % 100 == 0:\n",
    "        print(f\"LBFGS - Loss: {loss.item()}\")\n",
    "    return loss"
   ]
  },
  {
   "cell_type": "code",
   "execution_count": 53,
   "metadata": {},
   "outputs": [],
   "source": [
    "def train_adam(model, x_f, y_f, A, k, num_iter=1_000):\n",
    "\n",
    "    optimizer = torch.optim.Adam(model.parameters(), lr=1e-3)\n",
    "    global iter\n",
    "     \n",
    "    for i in range(1, num_iter + 1):\n",
    "        optimizer.zero_grad()\n",
    "        loss = mse_f(model, x_f, y_f, A, k)  \n",
    "        loss.backward(retain_graph=True)\n",
    "        optimizer.step()\n",
    "        iter += 1\n",
    "        if iter % 100 == 0:\n",
    "            print(f\"Adam - Loss: {loss.item()}\")"
   ]
  },
  {
   "cell_type": "code",
   "execution_count": 54,
   "metadata": {},
   "outputs": [],
   "source": [
    "# Function for L-BFGS training\n",
    "def train_lbfgs(model,x_f, y_f, A, k, num_iter=1_000):\n",
    "\n",
    "    optimizer = torch.optim.LBFGS(model.parameters(),\n",
    "                                    lr=1,\n",
    "                                    max_iter=num_iter,\n",
    "                                    max_eval=num_iter,\n",
    "                                    tolerance_grad=1e-7,\n",
    "                                    history_size=100,\n",
    "                                    tolerance_change=1.0 * np.finfo(float).eps,\n",
    "                                    line_search_fn=\"strong_wolfe\")\n",
    " \n",
    "    closure_fn = partial(closure, model, optimizer, x_f, y_f, A, k)\n",
    "    optimizer.step(closure_fn)"
   ]
  },
  {
   "cell_type": "code",
   "execution_count": 55,
   "metadata": {},
   "outputs": [
    {
     "data": {
      "image/png": "[encoded data removed]",
      "text/plain": [
       "<Figure size 539.643x333.518 with 1 Axes>"
      ]
     },
     "metadata": {},
     "output_type": "display_data"
    }
   ],
   "source": [
    "# Define the device\n",
    "device = torch.device('cuda')\n",
    "\n",
    "# Initialize iteration counter\n",
    "iter = 0  \n",
    "\n",
    "# Define the parameters\n",
    "A = 1\n",
    "k = 10\n",
    "\n",
    "# Define lower and upper bounds for the domain\n",
    "lb = np.array([0.0, 0.0])\n",
    "ub = np.array([1.0, 1.0])  \n",
    "\n",
    "# Generate sampling points \n",
    "N_f = 2_000 \n",
    "\n",
    "# Function to generate sampling points\n",
    "def generate_sampling_points(lb, ub, N):\n",
    "    c = lb + (ub - lb) * lhs(2, N)\n",
    "    x = torch.from_numpy(c[:, 0]).float().reshape(-1, 1).to(device)\n",
    "    x.requires_grad = True\n",
    "    y = torch.from_numpy(c[:, 1]).float().reshape(-1, 1).to(device)\n",
    "    y.requires_grad = True\n",
    "    return x, y\n",
    "\n",
    "x_f, y_f = generate_sampling_points(lb, ub, N_f)\n",
    "\n",
    "# Initialize the model with specified parameters and apply weights\n",
    "model = MLP(input_size=2, output_size=2, hidden_layers=5, hidden_units=100, activation_function=nn.Tanh()).to(device)\n",
    "model.apply(init_weights)\n",
    "\n",
    "# Function to plot sampling points\n",
    "def plot_sampling_points(x, y, title):\n",
    "    x_np = x.cpu().detach().numpy()\n",
    "    y_np = y.cpu().detach().numpy()\n",
    "    plt.scatter(x_np, y_np, s=1)\n",
    "    \n",
    "# Plot the sampling points\n",
    "plot_sampling_points(x_f, y_f, 'Function Sampling Points')\n",
    "plt.show()       \n",
    "    "
   ]
  },
  {
   "cell_type": "code",
   "execution_count": 56,
   "metadata": {},
   "outputs": [],
   "source": [
    "train_lbfgs(model, x_f, y_f, A, k, num_iter=1000)"
   ]
  },
  {
   "cell_type": "code",
   "execution_count": 57,
   "metadata": {},
   "outputs": [],
   "source": [
    "# Número de muestras en x y y\n",
    "dom_samples = 100\n",
    "x = np.linspace(0, 1, dom_samples)\n",
    "y = np.linspace(0, 1, dom_samples)\n",
    "\n",
    "# Malla del dominio\n",
    "X, Y = np.meshgrid(x, y)\n",
    "\n",
    "def u_exact(x, y, k):\n",
    "    ikx = -1j * x * k\n",
    "    exp_ikx = np.exp(ikx)    \n",
    "    return exp_ikx"
   ]
  },
  {
   "cell_type": "code",
   "execution_count": 58,
   "metadata": {},
   "outputs": [],
   "source": [
    "# Convertir los datos X e Y a tensores de PyTorch y cambiar su forma\n",
    "X_ten = torch.tensor(X).float().reshape(-1, 1).to(device)\n",
    "Y_ten = torch.tensor(Y).float().reshape(-1, 1).to(device)\n",
    "\n",
    "# Concatenar los tensores X e Y en un solo tensor\n",
    "domain_ten = torch.cat([X_ten,Y_ten], dim = 1) \n",
    "U_pred = model(domain_ten)\n",
    "U_real = U_pred[:, 0].detach().cpu().numpy().reshape(X.shape)"
   ]
  },
  {
   "cell_type": "code",
   "execution_count": 59,
   "metadata": {},
   "outputs": [
    {
     "data": {
      "text/plain": [
       "(100, 100)"
      ]
     },
     "execution_count": 59,
     "metadata": {},
     "output_type": "execute_result"
    }
   ],
   "source": [
    "np.shape(U_real)"
   ]
  },
  {
   "cell_type": "code",
   "execution_count": 60,
   "metadata": {},
   "outputs": [
    {
     "data": {
      "image/png": "[encoded data removed]",
      "text/plain": [
       "<Figure size 800x400 with 4 Axes>"
      ]
     },
     "metadata": {},
     "output_type": "display_data"
    }
   ],
   "source": [
    "plt.figure(figsize=(8, 4))\n",
    "\n",
    "plt.subplot(1, 2, 1)\n",
    "plt.contourf(X, Y, np.real(u_exact(X, Y,k)), cmap='magma')\n",
    "plt.colorbar(shrink=0.8)\n",
    "plt.xlabel('$x$')\n",
    "plt.ylabel('$y$')\n",
    "plt.title(\"Solución analítica\")\n",
    "plt.axis(\"image\")\n",
    "plt.grid(False)\n",
    "\n",
    "plt.subplot(1, 2, 2)\n",
    "plt.contourf(X, Y, U_real, cmap='magma')\n",
    "plt.colorbar(shrink=0.8)\n",
    "plt.xlabel('$x$')\n",
    "plt.ylabel('$y$')\n",
    "plt.title(\"Solución aproximada\")\n",
    "plt.axis(\"image\")\n",
    "plt.grid(False)\n",
    "\n",
    "plt.tight_layout()"
   ]
  },
  {
   "cell_type": "code",
   "execution_count": null,
   "metadata": {},
   "outputs": [],
   "source": []
  }
 ],
 "metadata": {
  "kernelspec": {
   "display_name": "scattering-problem-env",
   "language": "python",
   "name": "python3"
  },
  "language_info": {
   "codemirror_mode": {
    "name": "ipython",
    "version": 3
   },
   "file_extension": ".py",
   "mimetype": "text/x-python",
   "name": "python",
   "nbconvert_exporter": "python",
   "pygments_lexer": "ipython3",
   "version": "3.12.6"
  }
 },
 "nbformat": 4,
 "nbformat_minor": 2
}
