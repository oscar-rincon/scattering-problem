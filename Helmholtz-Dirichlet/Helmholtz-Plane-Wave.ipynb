{
 "cells": [
  {
   "cell_type": "markdown",
   "metadata": {},
   "source": [
    "# Solución de la ecuación de Helmholtz usando PINNs"
   ]
  },
  {
   "cell_type": "markdown",
   "metadata": {},
   "source": [
    "## Descripción del problema\n",
    "\n",
    "Queremos resolver la siguiente ecuación:\n",
    "\n",
    "\\begin{align}\n",
    "\\Delta u  + k^{2}u = 0\\quad \\forall (x, y) \\in \\Omega\\\\\n",
    "u(x, y) =  e^{-ikx}\\quad \\forall (x, y) \\in \\partial \\Omega\n",
    "\\end{align}\n",
    "\n",
    "En el ejemplo tendremos $\\Omega = (0, 1)^2$ La solución exacta es:\n",
    "\n",
    "$$\n",
    "u(x, y) =   e^{-ikx}\n",
    "$$\n",
    "\n",
    "- $ A $ es la amplitud de la onda.\n",
    "- $ k $ es el número de onda."
   ]
  },
  {
   "cell_type": "code",
   "execution_count": null,
   "metadata": {},
   "outputs": [],
   "source": [
    "import numpy as np\n",
    "import matplotlib.pyplot as plt\n",
    "import torch\n",
    "import torch.nn as nn\n",
    "from pyDOE import lhs\n",
    "from functools import partial  # Higher-order functions and operations on callable objects\n",
    "from pinns import *\n",
    "from plotting import *\n",
    "import warnings\n",
    "# Suppress warnings to keep the output clean\n",
    "warnings.filterwarnings(\"ignore\")"
   ]
  },
  {
   "cell_type": "code",
   "execution_count": 2,
   "metadata": {},
   "outputs": [],
   "source": [
    "def f(model, x_f, y_f, A, k):\n",
    "    # Concatenate x_f and y_f to form the input domain\n",
    "    domain = torch.stack((x_f, y_f), dim=1)\n",
    "    \n",
    "    # Pass the domain through the model to get the output\n",
    "    u = model(domain)\n",
    "    \n",
    "    # Extract real and imaginary parts\n",
    "    u_real = u[:, 0]\n",
    "    u_imag = u[:, 1]\n",
    "    \n",
    "    # Calculate second-order derivatives\n",
    "    u_real_xx = derivative(u_real, x_f, order=2)\n",
    "    u_real_yy = derivative(u_real, y_f, order=2)\n",
    "    u_imag_xx = derivative(u_imag, x_f, order=2)\n",
    "    u_imag_yy = derivative(u_imag, y_f, order=2)\n",
    "    \n",
    "    # Calculate the Helmholtz equation components\n",
    "    f_u_real = u_real_xx + u_real_yy + k**2 * u_real\n",
    "    f_u_imag = u_imag_xx + u_imag_yy + k**2 * u_imag\n",
    "    \n",
    "    return f_u_real, f_u_imag"
   ]
  },
  {
   "cell_type": "code",
   "execution_count": 3,
   "metadata": {},
   "outputs": [],
   "source": [
    "def mse_f(model, x_f, y_f, A, k):\n",
    "    # Calcular f(x, y) a partir de la red neuronal\n",
    "    f_u_real, f_u_imag = f(model, x_f, y_f, A, k)\n",
    "    \n",
    "    # Calcular el error cuadrático medio para las partes real e imaginaria\n",
    "    error_f_real = torch.mean(f_u_real**2)\n",
    "    error_f_imag = torch.mean(f_u_imag**2)\n",
    "    \n",
    "    # Sumar los errores para obtener el MSE total\n",
    "    mse = error_f_real + error_f_imag\n",
    "      \n",
    "    return mse"
   ]
  },
  {
   "cell_type": "code",
   "execution_count": 4,
   "metadata": {},
   "outputs": [],
   "source": [
    "def mse_b(model, x_b, y_b, A, k):\n",
    "    \n",
    "    # Left boundary\n",
    "    x_b_left = torch.zeros_like(y_b) - 1.0\n",
    "    x_b_left.requires_grad = True\n",
    "    domain = torch.stack((x_b_left, y_b), axis = 1)\n",
    "    u_b_left = model(domain) \n",
    "    u_real_left = u_b_left[:, 0]\n",
    "    u_imag_left = u_b_left[:, 1]    \n",
    "    ikx = -1j * k * x_b_left\n",
    "    exp_ikx_left = torch.exp(ikx)  \n",
    "    exp_ikx_left_real = torch.real(exp_ikx_left)\n",
    "    exp_ikx_left_imag = torch.imag(exp_ikx_left)\n",
    "    error_real_left = u_real_left - exp_ikx_left_real\n",
    "    error_imag_left = u_imag_left - exp_ikx_left_imag\n",
    "    \n",
    "    # mse for left boundary\n",
    "    mse_drichlet_left = ((error_real_left)**2 + (error_imag_left)**2).mean() \n",
    "    \n",
    "    # Right boundary\n",
    "    x_b_right = torch.zeros_like(y_b) + 1.0\n",
    "    x_b_right.requires_grad = True\n",
    "    domain = torch.stack((x_b_right, y_b), axis = 1)\n",
    "    u_b_right = model(domain)\n",
    "    u_real_right = u_b_right[:, 0]\n",
    "    u_imag_right = u_b_right[:, 1]\n",
    "    ikx = -1j * k * x_b_right\n",
    "    exp_ikx_right = torch.exp(ikx)\n",
    "    exp_ikx_right_real = torch.real(exp_ikx_right)\n",
    "    exp_ikx_right_imag = torch.imag(exp_ikx_right)\n",
    "    error_real_right = u_real_right - exp_ikx_right_real\n",
    "    error_imag_right = u_imag_right - exp_ikx_right_imag\n",
    "    \n",
    "    # mse for right boundary\n",
    "    mse_drichlet_right = ((error_real_right)**2 + (error_imag_right)**2).mean() \n",
    "    \n",
    "    # Bottom boundary\n",
    "    y_b_bottom = torch.zeros_like(x_b) - 1.0\n",
    "    y_b_bottom.requires_grad = True\n",
    "    domain = torch.stack((x_b, y_b_bottom), axis = 1)\n",
    "    u_b_bottom = model(domain)\n",
    "    u_real_bottom = u_b_bottom[:, 0]\n",
    "    u_imag_bottom = u_b_bottom[:, 1]\n",
    "    iky = -1j * k * x_b\n",
    "    exp_iky_bottom = torch.exp(iky)\n",
    "    exp_iky_bottom_real = torch.real(exp_iky_bottom)\n",
    "    exp_iky_bottom_imag = torch.imag(exp_iky_bottom)\n",
    "    error_real_bottom = u_real_bottom - exp_iky_bottom_real\n",
    "    error_imag_bottom = u_imag_bottom - exp_iky_bottom_imag\n",
    "    \n",
    "    # mse for bottom boundary\n",
    "    mse_drichlet_bottom = ((error_real_bottom)**2 + (error_imag_bottom)**2).mean()\n",
    "    \n",
    "    # Top boundary\n",
    "    y_b_top = torch.zeros_like(x_b) + 1.0\n",
    "    y_b_top.requires_grad = True\n",
    "    domain = torch.stack((x_b, y_b_top), axis = 1)\n",
    "    u_b_top = model(domain)\n",
    "    u_real_top = u_b_top[:, 0]\n",
    "    u_imag_top = u_b_top[:, 1]\n",
    "    iky = -1j * k * x_b\n",
    "    exp_iky_top = torch.exp(iky)\n",
    "    exp_iky_top_real = torch.real(exp_iky_top)\n",
    "    exp_iky_top_imag = torch.imag(exp_iky_top)\n",
    "    error_real_top = u_real_top - exp_iky_top_real\n",
    "    error_imag_top = u_imag_top - exp_iky_top_imag\n",
    "    \n",
    "    # mse for top boundary\n",
    "    mse_drichlet_top = ((error_real_top)**2 + (error_imag_top)**2).mean()\n",
    "    \n",
    "    # Total mse\n",
    "    mse = (mse_drichlet_left + mse_drichlet_right + mse_drichlet_bottom + mse_drichlet_top)\n",
    "    \n",
    "    return mse    "
   ]
  },
  {
   "cell_type": "code",
   "execution_count": 5,
   "metadata": {},
   "outputs": [],
   "source": [
    "def closure(model, optimizer, x_f, y_f, x_b, y_b, A, k):\n",
    "    # Reset gradients\n",
    "    optimizer.zero_grad()\n",
    "    \n",
    "    # Calculate the loss\n",
    "    loss_boundary = mse_b(model, x_b, y_b, A, k)\n",
    "    loss_interior = mse_f(model, x_f, y_f, A, k)\n",
    "    loss = loss_boundary + 1e-3 * loss_interior\n",
    "    \n",
    "    # Backpropagate the loss\n",
    "    loss.backward(retain_graph=True)\n",
    "    \n",
    "    # Update iteration counter and print loss every 100 iterations\n",
    "    global iter\n",
    "    iter += 1\n",
    "    if iter % 100 == 0:\n",
    "        print(f\"LBFGS - Loss: {loss.item()}\")\n",
    "    \n",
    "    return loss"
   ]
  },
  {
   "cell_type": "code",
   "execution_count": 6,
   "metadata": {},
   "outputs": [],
   "source": [
    "def train_adam(model, x_f, y_f, x_b, y_b, A, k, num_iter=1_000):\n",
    "    # Initialize the Adam optimizer\n",
    "    optimizer = torch.optim.Adam(model.parameters(), lr=1e-3)\n",
    "    \n",
    "    # Initialize the global iteration counter\n",
    "    global iter\n",
    "    \n",
    "    # Training loop\n",
    "    for i in range(1, num_iter + 1):\n",
    "        # Reset gradients\n",
    "        optimizer.zero_grad()\n",
    "        \n",
    "        # Calculate the loss\n",
    "        loss_boundary = mse_b(model, x_b, y_b, A, k)\n",
    "        loss_interior = mse_f(model, x_f, y_f, A, k)\n",
    "        loss = loss_boundary + 1e-3 * loss_interior\n",
    "        \n",
    "        # Backpropagate the loss\n",
    "        loss.backward(retain_graph=True)\n",
    "        \n",
    "        # Update the model parameters\n",
    "        optimizer.step()\n",
    "        \n",
    "        # Update iteration counter and print loss every 100 iterations\n",
    "        iter += 1\n",
    "        if iter % 100 == 0:\n",
    "            print(f\"Adam - Loss: {loss.item()}\")"
   ]
  },
  {
   "cell_type": "code",
   "execution_count": 7,
   "metadata": {},
   "outputs": [],
   "source": [
    "# Function for L-BFGS training\n",
    "def train_lbfgs(model,x_f, y_f, x_b, y_b, A, k, num_iter=1_000):\n",
    "\n",
    "    optimizer = torch.optim.LBFGS(model.parameters(),\n",
    "                                    lr=1,\n",
    "                                    max_iter=num_iter,\n",
    "                                    max_eval=num_iter,\n",
    "                                    tolerance_grad=1e-7,\n",
    "                                    history_size=100,\n",
    "                                    tolerance_change=1.0 * np.finfo(float).eps,\n",
    "                                    line_search_fn=\"strong_wolfe\")\n",
    " \n",
    "    closure_fn = partial(closure, model, optimizer, x_f, y_f, x_b, y_b, A, k)\n",
    "    optimizer.step(closure_fn)"
   ]
  },
  {
   "cell_type": "code",
   "execution_count": 8,
   "metadata": {},
   "outputs": [
    {
     "data": {
      "image/png": "[encoded data removed]",
      "text/plain": [
       "<Figure size 539.643x333.518 with 1 Axes>"
      ]
     },
     "metadata": {},
     "output_type": "display_data"
    }
   ],
   "source": [
    "# Define the device\n",
    "device = torch.device('cuda')\n",
    "\n",
    "# Initialize iteration counter\n",
    "iter = 0  \n",
    "\n",
    "# Define the parameters\n",
    "A = 1\n",
    "k = 10\n",
    "\n",
    "# Define lower and upper bounds for the domain\n",
    "lb = np.array([-1.0, -1.0])\n",
    "ub = np.array([1.0, 1.0])  \n",
    "\n",
    "# Generate sampling points\n",
    "N_b = 50 \n",
    "N_f = 500 \n",
    " \n",
    "# Function to generate sampling points\n",
    "def generate_sampling_points(lb, ub, N):\n",
    "    c = lb + (ub - lb) * lhs(2, N)\n",
    "    x = torch.from_numpy(c[:, 0]).float().to(device)\n",
    "    x.requires_grad = True\n",
    "    y = torch.from_numpy(c[:, 1]).float().to(device)\n",
    "    y.requires_grad = True\n",
    "    return x, y\n",
    "# Function to generate boundary sampling points\n",
    "def generate_boundary_sampling_points(lb, ub, N):\n",
    "    x_b = np.concatenate([\n",
    "        np.random.uniform(lb[0], ub[0], N),  # x on lower y boundary\n",
    "        np.random.uniform(lb[0], ub[0], N),  # x on upper y boundary\n",
    "        np.full(N, lb[0]),                   # x on left x boundary\n",
    "        np.full(N, ub[0])                    # x on right x boundary\n",
    "    ])\n",
    "    y_b = np.concatenate([\n",
    "        np.full(N, lb[1]),                   # y on lower y boundary\n",
    "        np.full(N, ub[1]),                   # y on upper y boundary\n",
    "        np.random.uniform(lb[1], ub[1], N),  # y on left x boundary\n",
    "        np.random.uniform(lb[1], ub[1], N)   # y on right x boundary\n",
    "    ])\n",
    "    x_b = torch.from_numpy(x_b).float().to(device)\n",
    "    x_b.requires_grad = True\n",
    "    y_b = torch.from_numpy(y_b).float().to(device)\n",
    "    y_b.requires_grad = True\n",
    "    return x_b, y_b\n",
    "\n",
    "x_f, y_f = generate_sampling_points(lb, ub, N_f)\n",
    "x_b, y_b = generate_boundary_sampling_points(lb, ub, N_b)\n",
    "\n",
    "# Initialize the model with specified parameters and apply weights\n",
    "model = MLP(input_size=2, output_size=2, hidden_layers=5, hidden_units=150, activation_function=nn.Tanh()).to(device)\n",
    "model.apply(init_weights)\n",
    "\n",
    "# Function to plot sampling points\n",
    "def plot_sampling_points(x, y, title):\n",
    "    x_np = x.cpu().detach().numpy()\n",
    "    y_np = y.cpu().detach().numpy()\n",
    "    plt.scatter(x_np, y_np, s=1)\n",
    "\n",
    "\n",
    "# Plot the sampling points\n",
    "plot_sampling_points(x_f, y_f, 'Function Sampling Points')\n",
    "plot_sampling_points(x_b, torch.zeros_like(x_b)-1, 'Boundary Sampling Points')\n",
    "plot_sampling_points(x_b, torch.zeros_like(x_b)+1, 'Boundary Sampling Points')\n",
    "plot_sampling_points(torch.zeros_like(x_b)-1, y_b, 'Boundary Sampling Points')\n",
    "plot_sampling_points(torch.zeros_like(x_b)+1, y_b, 'Boundary Sampling Points')\n",
    "plt.show()    "
   ]
  },
  {
   "cell_type": "code",
   "execution_count": 9,
   "metadata": {},
   "outputs": [
    {
     "name": "stdout",
     "output_type": "stream",
     "text": [
      "LBFGS - Loss: 1.7967056035995483\n",
      "LBFGS - Loss: 1.336677074432373\n",
      "LBFGS - Loss: 0.571729302406311\n",
      "LBFGS - Loss: 0.0970146656036377\n",
      "LBFGS - Loss: 0.020494826138019562\n",
      "LBFGS - Loss: 0.006201464682817459\n",
      "LBFGS - Loss: 0.002699922537431121\n",
      "LBFGS - Loss: 0.0013896117452532053\n",
      "LBFGS - Loss: 0.0009213712764903903\n",
      "LBFGS - Loss: 0.0006335112266242504\n"
     ]
    }
   ],
   "source": [
    "#train_adam(model, x_f, y_f, x_b, y_b, A, k, num_iter=1000)\n",
    "train_lbfgs(model, x_f, y_f, x_b, y_b, A, k, num_iter = 1_000)"
   ]
  },
  {
   "cell_type": "code",
   "execution_count": 10,
   "metadata": {},
   "outputs": [],
   "source": [
    "# Número de muestras en x y y\n",
    "dom_samples = 100\n",
    "x = np.linspace(-1, 1, dom_samples)\n",
    "y = np.linspace(-1, 1, dom_samples)\n",
    "\n",
    "# Malla del dominio\n",
    "X, Y = np.meshgrid(x, y)\n",
    "\n",
    "def u_exact(x, y, k):\n",
    "    ikx = -1j * x * k\n",
    "    exp_ikx = np.exp(ikx)    \n",
    "    return exp_ikx"
   ]
  },
  {
   "cell_type": "code",
   "execution_count": 11,
   "metadata": {},
   "outputs": [],
   "source": [
    "# Convertir los datos X e Y a tensores de PyTorch y cambiar su forma\n",
    "X_ten = torch.tensor(X).float().reshape(-1, 1).to(device)\n",
    "Y_ten = torch.tensor(Y).float().reshape(-1, 1).to(device)\n",
    "\n",
    "# Concatenar los tensores X e Y en un solo tensor\n",
    "domain_ten = torch.cat([X_ten,Y_ten], dim = 1) \n",
    "U_pred = model(domain_ten)\n",
    "U_real = U_pred[:, 0].detach().cpu().numpy().reshape(X.shape)\n",
    "U_imag = U_pred[:, 1].detach().cpu().numpy().reshape(X.shape)"
   ]
  },
  {
   "cell_type": "code",
   "execution_count": 12,
   "metadata": {},
   "outputs": [
    {
     "data": {
      "image/png": "[encoded data removed]",
      "text/plain": [
       "<Figure size 400x300 with 1 Axes>"
      ]
     },
     "metadata": {},
     "output_type": "display_data"
    }
   ],
   "source": [
    "plt.figure(figsize=(4, 3))\n",
    "plt.contourf(X, Y, np.real(u_exact(X, Y, k)), cmap='RdYlBu', levels=50, vmin=-1, vmax=1)\n",
    "plt.show()"
   ]
  },
  {
   "cell_type": "code",
   "execution_count": 13,
   "metadata": {},
   "outputs": [
    {
     "data": {
      "image/png": "[encoded data removed]",
      "text/plain": [
       "<Figure size 800x600 with 4 Axes>"
      ]
     },
     "metadata": {},
     "output_type": "display_data"
    }
   ],
   "source": [
    "plt.figure(figsize=(8, 6))\n",
    "\n",
    "plt.subplot(1, 2, 1)\n",
    "plt.contourf(X, Y, np.real(u_exact(X, Y, k)), cmap='RdYlBu', levels=50, vmin=-1, vmax=1)\n",
    "plt.colorbar(shrink=0.4)\n",
    "plt.xlabel('$x$')\n",
    "plt.ylabel('$y$')\n",
    "plt.title(\"Función\")\n",
    "plt.axis(\"image\")\n",
    "plt.grid(False)\n",
    "\n",
    "plt.subplot(1, 2, 2)\n",
    "plt.contourf(X, Y, U_real, cmap='RdYlBu', levels=50, vmin=-1, vmax=1)\n",
    "plt.colorbar(shrink=0.4)\n",
    "plt.xlabel('$x$')\n",
    "plt.ylabel('$y$')\n",
    "plt.title(\"Función aproximada\")\n",
    "plt.axis(\"image\")\n",
    "plt.grid(False)\n",
    "\n",
    "plt.tight_layout()"
   ]
  },
  {
   "cell_type": "code",
   "execution_count": null,
   "metadata": {},
   "outputs": [],
   "source": []
  }
 ],
 "metadata": {
  "kernelspec": {
   "display_name": "scattering-problem-env",
   "language": "python",
   "name": "python3"
  },
  "language_info": {
   "codemirror_mode": {
    "name": "ipython",
    "version": 3
   },
   "file_extension": ".py",
   "mimetype": "text/x-python",
   "name": "python",
   "nbconvert_exporter": "python",
   "pygments_lexer": "ipython3",
   "version": "3.12.6"
  }
 },
 "nbformat": 4,
 "nbformat_minor": 2
}
