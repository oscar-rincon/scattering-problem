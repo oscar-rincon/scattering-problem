{
 "cells": [
  {
   "cell_type": "markdown",
   "metadata": {},
   "source": [
    "# Solución de la ecuación de Helmholtz usando PINNs"
   ]
  },
  {
   "cell_type": "markdown",
   "metadata": {},
   "source": [
    "## Descripción del problema\n",
    "\n",
    "Queremos resolver la siguiente ecuación:\n",
    "\n",
    "\\begin{align}\n",
    "\\Delta u  + k^{2}u = 0\\quad \\forall (x, y) \\in \\Omega\\\\\n",
    "u(x, y) =  e^{-ikx}\\quad \\forall (x, y) \\in \\partial \\Omega\n",
    "\\end{align}\n",
    "\n",
    "En el ejemplo tendremos $\\Omega = (0, 1)^2$ La solución exacta es:\n",
    "\n",
    "$$\n",
    "u(x, y) =   e^{-ikx}\n",
    "$$\n",
    "\n",
    "- $ A $ es la amplitud de la onda.\n",
    "- $ k $ es el número de onda."
   ]
  },
  {
   "cell_type": "code",
   "execution_count": 31,
   "metadata": {},
   "outputs": [],
   "source": [
    "import numpy as np\n",
    "import matplotlib.pyplot as plt\n",
    "import torch\n",
    "from scipy.stats import qmc\n",
    "import torch.nn as nn\n",
    "import time\n",
    "from pyDOE import lhs\n",
    "from functools import partial  # Higher-order functions and operations on callable objects\n",
    "from pinns import *\n",
    "from plotting import *\n",
    "import warnings\n",
    "# Suppress warnings to keep the output clean\n",
    "warnings.filterwarnings(\"ignore\")"
   ]
  },
  {
   "cell_type": "code",
   "execution_count": null,
   "metadata": {},
   "outputs": [],
   "source": [
    "def f(model, x_f, y_f, A, k):\n",
    "    domain = torch.cat([x_f, y_f], dim = 1)\n",
    "    u = model(domain) \n",
    "    u_real = u[:, 0]\n",
    "    u_imag = u[:, 1]\n",
    "    u_real_xx = derivative(u_real, x_f, order=2)\n",
    "    u_real_yy = derivative(u_real, y_f, order=2)\n",
    "    u_imag_xx = derivative(u_imag, x_f, order=2)\n",
    "    u_imag_yy = derivative(u_imag, y_f, order=2)    \n",
    "    f_u_real = u_real_xx + u_real_yy + k**2 * u_real \n",
    "    f_u_imag = u_imag_xx + u_imag_yy + k**2 * u_imag\n",
    "    return f_u_real, f_u_imag"
   ]
  },
  {
   "cell_type": "code",
   "execution_count": 33,
   "metadata": {},
   "outputs": [],
   "source": [
    "def mse_f(model, x_f, y_f, A, k):\n",
    "    f_u_real, f_u_imag = f(model, x_f, y_f, A, k)\n",
    "    return (f_u_real**2 + f_u_imag**2).mean()"
   ]
  },
  {
   "cell_type": "code",
   "execution_count": 65,
   "metadata": {},
   "outputs": [],
   "source": [
    "def mse_b(model, x_b, y_b, A, k):\n",
    "    \n",
    "    # Left boundary\n",
    "    x_b_left = torch.zeros_like(y_b)\n",
    "    x_b_left.requires_grad = True\n",
    "    domain_left = torch.cat([x_b_left, y_b], dim = 1)\n",
    "    u_b_left = model(domain_left)\n",
    "    u_real_left = u_b_left[:, 0]\n",
    "    u_imag_left = u_b_left[:, 1]\n",
    "         \n",
    "    ikx = -1j * k * x_b_left\n",
    "    exp_ikx_left = torch.exp(ikx)  \n",
    "    exp_ikx_left_real = torch.real(exp_ikx_left)\n",
    "    exp_ikx_left_imag = torch.imag(exp_ikx_left)\n",
    "    \n",
    "    # mse for left boundary\n",
    "    mse_drichlet_left = ((u_real_left - exp_ikx_left_real)**2 + (u_imag_left - exp_ikx_left_imag)**2).mean()\n",
    "\n",
    "    # Right boundary\n",
    "    x_b_right = torch.zeros_like(y_b) + 1.0\n",
    "    x_b_right.requires_grad = True\n",
    "    domain_right = torch.cat([x_b_right, y_b], dim = 1)\n",
    "    u_b_right = model(domain_right)\n",
    "    u_real_right = u_b_right[:, 0]\n",
    "    u_imag_right = u_b_right[:, 1]\n",
    "    \n",
    " \n",
    "         \n",
    "    ikx = -1j * k * x_b_right\n",
    "    exp_ikx_right = torch.exp(ikx)    \n",
    "    exp_ikx_right_real = torch.real(exp_ikx_right)\n",
    "    exp_ikx_right_imag = torch.imag(exp_ikx_right)\n",
    "    \n",
    "    # mse for right boundary\n",
    "    mse_drichlet_right = ((u_real_right -  exp_ikx_right_real)**2 + (u_imag_right - exp_ikx_right_imag)**2).mean()\n",
    "        \n",
    "    # Bottom boundary\n",
    "    y_b_bottom = torch.zeros_like(x_b)\n",
    "    y_b_bottom.requires_grad = True\n",
    "    domain_bottom = torch.cat([x_b,y_b_bottom], dim = 1)\n",
    "    u_b_bottom = model(domain_bottom)\n",
    "    u_real_bottom = u_b_bottom[:, 0]\n",
    "    u_imag_bottom = u_b_bottom[:, 1]\n",
    "    \n",
    "\n",
    "    \n",
    "    ikx = -1j * k * x_b\n",
    "    exp_ikx_bottom = torch.exp(ikx) \n",
    "    exp_ikx_bottom_real = torch.real(exp_ikx_bottom)\n",
    "    exp_ikx_bottom_imag = torch.imag(exp_ikx_bottom)   \n",
    "\n",
    "    # mse for bottom boundary\n",
    "    mse_drichlet_bottom = ((u_real_bottom - exp_ikx_bottom_real)**2 + (u_imag_bottom -exp_ikx_bottom_imag)**2).mean()\n",
    "\n",
    "    # Top boundary\n",
    "    y_b_top = torch.zeros_like(x_b) + 1.0\n",
    "    y_b_top.requires_grad = True\n",
    "    domain_top = torch.cat([x_b, y_b_top], dim = 1)\n",
    "    u_b_top = model(domain_top)\n",
    "    u_real_top = u_b_top[:, 0]\n",
    "    u_imag_top = u_b_top[:, 1]\n",
    "\n",
    "    ikx = -1j * k * x_b\n",
    "    exp_ikx_top = torch.exp(ikx)\n",
    "    exp_ikx_top_real = torch.real(exp_ikx_top)\n",
    "    exp_ikx_top_imag = torch.imag(exp_ikx_top)\n",
    "    \n",
    "    # mse for top boundary\n",
    "    mse_drichlet_top = ((u_real_top - exp_ikx_top_real)**2 + (u_imag_top - exp_ikx_top_imag)**2).mean()\n",
    " \n",
    "    # mse total\n",
    "    mse_drichlet = mse_drichlet_left  #+ mse_drichlet_right + mse_drichlet_bottom + mse_drichlet_top\n",
    " \n",
    "    # Compute MSE for Dirichlet and Neumann boundary conditions\n",
    "         \n",
    "    return mse_drichlet"
   ]
  },
  {
   "cell_type": "code",
   "execution_count": 66,
   "metadata": {},
   "outputs": [],
   "source": [
    "def closure(model, optimizer, x_f, y_f, x_b, y_b, A, k):\n",
    "    optimizer.zero_grad()\n",
    "    loss =  mse_b(model, x_b, y_b, A, k) + mse_f(model, x_f, y_f, A, k)\n",
    "    loss.backward(retain_graph=True)\n",
    "    global iter\n",
    "    iter += 1\n",
    "    if iter % 100 == 0:\n",
    "        print(f\"LBFGS - Loss: {loss.item()}\")\n",
    "    return loss"
   ]
  },
  {
   "cell_type": "code",
   "execution_count": 79,
   "metadata": {},
   "outputs": [],
   "source": [
    "def train_adam(model, x_f, y_f, x_b, y_b, A, k, num_iter=1_000):\n",
    "\n",
    "    optimizer = torch.optim.Adam(model.parameters(), lr=1e-3)\n",
    "    global iter\n",
    "     \n",
    "    for i in range(1, num_iter + 1):\n",
    "        optimizer.zero_grad()\n",
    "        loss = mse_f(model, x_f, y_f, A, k) + mse_b(model, x_b, y_b, A, k)#mse_b(model, x_b, y_b, A, k) #mse_f(model, x_f, y_f, A, k) + \n",
    "        loss.backward(retain_graph=True)\n",
    "        optimizer.step()\n",
    "        iter += 1\n",
    "        if iter % 100 == 0:\n",
    "            print(f\"Adam - Loss: {loss.item()}\")"
   ]
  },
  {
   "cell_type": "code",
   "execution_count": 80,
   "metadata": {},
   "outputs": [],
   "source": [
    "# Function for L-BFGS training\n",
    "def train_lbfgs(model,x_f, y_f, x_b, y_b, A, k, num_iter=1_000):\n",
    "\n",
    "    optimizer = torch.optim.LBFGS(model.parameters(),\n",
    "                                    lr=1,\n",
    "                                    max_iter=num_iter,\n",
    "                                    max_eval=num_iter,\n",
    "                                    tolerance_grad=1e-7,\n",
    "                                    history_size=100,\n",
    "                                    tolerance_change=1.0 * np.finfo(float).eps,\n",
    "                                    line_search_fn=\"strong_wolfe\")\n",
    " \n",
    "    closure_fn = partial(closure, model, optimizer, x_f, y_f, x_b, y_b, A, k)\n",
    "    optimizer.step(closure_fn)"
   ]
  },
  {
   "cell_type": "code",
   "execution_count": 81,
   "metadata": {},
   "outputs": [
    {
     "data": {
      "image/png": "[encoded data removed]",
      "text/plain": [
       "<Figure size 539.643x333.518 with 1 Axes>"
      ]
     },
     "metadata": {},
     "output_type": "display_data"
    }
   ],
   "source": [
    "# Define the device\n",
    "device = torch.device('cuda')\n",
    "\n",
    "# Initialize iteration counter\n",
    "iter = 0  \n",
    "\n",
    "# Define the parameters\n",
    "A = 1\n",
    "k = 5\n",
    "\n",
    "# Define lower and upper bounds for the domain\n",
    "lb = np.array([0.0, 0.0])\n",
    "ub = np.array([1.0, 1.0])  \n",
    "\n",
    "# Generate sampling points\n",
    "N_b = 100  \n",
    "N_f = 2_000 \n",
    "\n",
    "# Function to generate sampling points\n",
    "def generate_sampling_points(lb, ub, N):\n",
    "    c = lb + (ub - lb) * lhs(2, N)\n",
    "    x = torch.from_numpy(c[:, 0]).float().reshape(-1, 1).to(device)\n",
    "    x.requires_grad = True\n",
    "    y = torch.from_numpy(c[:, 1]).float().reshape(-1, 1).to(device)\n",
    "    y.requires_grad = True\n",
    "    return x, y\n",
    "\n",
    "# Function to generate boundary sampling points\n",
    "def generate_boundary_sampling_points(lb, ub, N):\n",
    "    x_b = np.concatenate([\n",
    "        np.random.uniform(lb[0], ub[0], N),  # x on lower y boundary\n",
    "        np.random.uniform(lb[0], ub[0], N),  # x on upper y boundary\n",
    "        np.full(N, lb[0]),                   # x on left x boundary\n",
    "        np.full(N, ub[0])                    # x on right x boundary\n",
    "    ])\n",
    "    y_b = np.concatenate([\n",
    "        np.full(N, lb[1]),                   # y on lower y boundary\n",
    "        np.full(N, ub[1]),                   # y on upper y boundary\n",
    "        np.random.uniform(lb[1], ub[1], N),  # y on left x boundary\n",
    "        np.random.uniform(lb[1], ub[1], N)   # y on right x boundary\n",
    "    ])\n",
    "    x_b = torch.from_numpy(x_b).float().reshape(-1, 1).to(device)\n",
    "    x_b.requires_grad = True\n",
    "    y_b = torch.from_numpy(y_b).float().reshape(-1, 1).to(device)\n",
    "    y_b.requires_grad = True\n",
    "    return x_b, y_b\n",
    "\n",
    "x_f, y_f = generate_sampling_points(lb, ub, N_f)\n",
    "x_b, y_b = generate_boundary_sampling_points(lb, ub, N_b)\n",
    "\n",
    "# Initialize the model with specified parameters and apply weights\n",
    "model = MLP(input_size=2, output_size=2, hidden_layers=5, hidden_units=100, activation_function=nn.Tanh()).to(device)\n",
    "model.apply(init_weights)\n",
    "\n",
    "# Function to plot sampling points\n",
    "def plot_sampling_points(x, y, title):\n",
    "    x_np = x.cpu().detach().numpy()\n",
    "    y_np = y.cpu().detach().numpy()\n",
    "    plt.scatter(x_np, y_np, s=1)\n",
    "\n",
    "\n",
    "# Plot the sampling points\n",
    "plot_sampling_points(x_f, y_f, 'Function Sampling Points')\n",
    "plot_sampling_points(x_b, torch.zeros_like(x_b), 'Boundary Sampling Points')\n",
    "plot_sampling_points(x_b, torch.zeros_like(x_b)+1, 'Boundary Sampling Points')\n",
    "plot_sampling_points(torch.zeros_like(x_b), y_b, 'Boundary Sampling Points')\n",
    "plot_sampling_points(torch.zeros_like(x_b)+1, y_b, 'Boundary Sampling Points')\n",
    "plt.show()    "
   ]
  },
  {
   "cell_type": "code",
   "execution_count": 82,
   "metadata": {},
   "outputs": [
    {
     "name": "stdout",
     "output_type": "stream",
     "text": [
      "Adam - Loss: 0.9938929080963135\n"
     ]
    }
   ],
   "source": [
    "train_adam(model, x_f, y_f, x_b, y_b, A, k, num_iter=100)\n",
    "train_lbfgs(model, x_f, y_f, x_b, y_b, A, k, num_iter=1000)\n"
   ]
  },
  {
   "cell_type": "code",
   "execution_count": 83,
   "metadata": {},
   "outputs": [],
   "source": [
    "# Número de onda\n",
    "A = 1\n",
    "k = 20\n",
    "\n",
    "# Número de muestras en x y y\n",
    "dom_samples = 100\n",
    "x = np.linspace(0, 1, dom_samples)\n",
    "y = np.linspace(0, 1, dom_samples)\n",
    "\n",
    "# Malla del dominio\n",
    "X, Y = np.meshgrid(x, y)\n",
    "\n",
    "def u_exact(x, y, k):\n",
    "    ikx = 1j * x * k\n",
    "    exp_ikx = np.exp(ikx)    \n",
    "    return exp_ikx"
   ]
  },
  {
   "cell_type": "code",
   "execution_count": 84,
   "metadata": {},
   "outputs": [
    {
     "data": {
      "image/png": "[encoded data removed]",
      "text/plain": [
       "<Figure size 800x400 with 4 Axes>"
      ]
     },
     "metadata": {},
     "output_type": "display_data"
    }
   ],
   "source": [
    "# Convertir los datos X e Y a tensores de PyTorch y cambiar su forma\n",
    "X_ten = torch.tensor(X).float().reshape(-1, 1).to(device)\n",
    "Y_ten = torch.tensor(Y).float().reshape(-1, 1).to(device)\n",
    "\n",
    "# Concatenar los tensores X e Y en un solo tensor\n",
    "domain_ten = torch.cat([X_ten,Y_ten], dim = 1) \n",
    "\n",
    "# Generar predicciones usando la red neuronal y cambiar la forma para que coincida con la cuadrícula\n",
    "U_pred = model(domain_ten)\n",
    "U_real = U_pred[:, 1].detach().cpu().numpy().reshape(X.shape)\n",
    "plt.figure(figsize=(8, 4))\n",
    "\n",
    "plt.subplot(1, 2, 1)\n",
    "plt.contourf(X, Y, np.imag(u_exact(X, Y,k)), cmap='magma')\n",
    "plt.colorbar(shrink=0.8)\n",
    "plt.xlabel('$x$')\n",
    "plt.ylabel('$y$')\n",
    "plt.title(\"Solución analítica\")\n",
    "plt.axis(\"image\")\n",
    "plt.grid(False)\n",
    "\n",
    "plt.subplot(1, 2, 2)\n",
    "plt.contourf(X, Y, U_real, cmap='magma')\n",
    "plt.colorbar(shrink=0.8)\n",
    "plt.xlabel('$x$')\n",
    "plt.ylabel('$y$')\n",
    "plt.title(\"Solución aproximada\")\n",
    "plt.axis(\"image\")\n",
    "plt.grid(False)\n",
    "\n",
    "plt.tight_layout()"
   ]
  },
  {
   "cell_type": "code",
   "execution_count": null,
   "metadata": {},
   "outputs": [],
   "source": []
  }
 ],
 "metadata": {
  "kernelspec": {
   "display_name": "scattering-problem-env",
   "language": "python",
   "name": "python3"
  },
  "language_info": {
   "codemirror_mode": {
    "name": "ipython",
    "version": 3
   },
   "file_extension": ".py",
   "mimetype": "text/x-python",
   "name": "python",
   "nbconvert_exporter": "python",
   "pygments_lexer": "ipython3",
   "version": "3.12.6"
  }
 },
 "nbformat": 4,
 "nbformat_minor": 2
}
