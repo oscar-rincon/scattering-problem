{
 "cells": [
  {
   "cell_type": "markdown",
   "metadata": {},
   "source": [
    "# Solución de la ecuación de Helmholtz usando PINNs"
   ]
  },
  {
   "cell_type": "markdown",
   "metadata": {},
   "source": [
    "## Descripción del problema\n",
    "\n",
    "Queremos resolver la siguiente ecuación:\n",
    "\n",
    "\\begin{align}\n",
    "\\Delta u  + k^{2}u = f(x, y)\\quad \\forall (x, y) \\in \\Omega\\\\\n",
    "u(x, y) = 0\\quad \\forall (x, y) \\in \\partial \\Omega\n",
    "\\end{align}\n",
    "\n",
    "En el ejemplo tendremos $\\Omega = (0, 1)^2$ y un termino fuente: \n",
    "\n",
    "$$\n",
    "f(x,y) =  -a^2 \\sin(a x)\\sin(k y)\n",
    "$$\n",
    "\n",
    "donde  $a=2$ y $k=2$. La solución exacta es:\n",
    "\n",
    "$$\n",
    "u(x, y) =  \\sin(a x)\\sin(k y)\n",
    "$$"
   ]
  },
  {
   "cell_type": "code",
   "execution_count": 1,
   "metadata": {},
   "outputs": [],
   "source": [
    "import numpy as np\n",
    "import matplotlib.pyplot as plt\n",
    "import torch\n",
    "from scipy.stats import qmc\n",
    "import torch.nn as nn\n",
    "import time\n",
    "from pyDOE import lhs\n",
    "from functools import partial  # Higher-order functions and operations on callable objects\n",
    "from pinns import *\n",
    "from plotting import *\n",
    "import warnings\n",
    "# Suppress warnings to keep the output clean\n",
    "warnings.filterwarnings(\"ignore\")"
   ]
  },
  {
   "cell_type": "code",
   "execution_count": 2,
   "metadata": {},
   "outputs": [],
   "source": [
    "def f(model, x_f, y_f, a, k):\n",
    "    domain = torch.cat([x_f, y_f], dim = 1)\n",
    "    u = model(domain) \n",
    "    u_xx = derivative(u, x_f, order=2)\n",
    "    u_yy = derivative(u, y_f, order=2)\n",
    "    f_u = u_xx + u_yy + k**2 * u + a**2 * torch.sin(a * x_f) * torch.sin(k * y_f)\n",
    "    return f_u"
   ]
  },
  {
   "cell_type": "code",
   "execution_count": 3,
   "metadata": {},
   "outputs": [],
   "source": [
    "def mse_f(model, x_f, y_f, a, k):\n",
    "    f_u = f(model, x_f, y_f, a, k)\n",
    "    return (f_u**2).mean()"
   ]
  },
  {
   "cell_type": "code",
   "execution_count": 4,
   "metadata": {},
   "outputs": [],
   "source": [
    "def mse_b(model, x_b, y_b):\n",
    "    # Left boundary\n",
    "    x_b_left = torch.zeros_like(y_b)\n",
    "    x_b_left.requires_grad = True\n",
    "    domain_left = torch.cat([x_b_left, y_b], dim = 1)\n",
    "    u_b_left = model(domain_left)  \n",
    "\n",
    "    # Right boundary\n",
    "    x_b_right = torch.zeros_like(y_b) + torch.pi\n",
    "    x_b_right.requires_grad = True\n",
    "    domain_right = torch.cat([x_b_right, y_b], dim = 1)\n",
    "    u_b_right = model(domain_right)\n",
    "    \n",
    "    # Bottom boundary\n",
    "    y_b_bottom = torch.zeros_like(x_b)\n",
    "    y_b_bottom.requires_grad = True\n",
    "    domain_right = torch.cat([x_b,y_b_bottom], dim = 1)\n",
    "    u_b_bottom = model(domain_right)\n",
    "\n",
    "    # Top boundary\n",
    "    y_b_top = torch.zeros_like(x_b) + torch.pi\n",
    "    y_b_top.requires_grad = True\n",
    "    domain_top = torch.cat([x_b, y_b_top], dim = 1)\n",
    "    u_b_top = model(domain_top)\n",
    "\n",
    "    # Compute MSE for Dirichlet and Neumann boundary conditions\n",
    "    mse_drichlet = ((u_b_top)**2+(u_b_bottom)**2 + (u_b_left)**2 + (u_b_right)**2).mean()\n",
    "        \n",
    "    return mse_drichlet"
   ]
  },
  {
   "cell_type": "code",
   "execution_count": 5,
   "metadata": {},
   "outputs": [],
   "source": [
    "def closure(model, optimizer, x_f, y_f, x_b, y_b, a, k):\n",
    "    optimizer.zero_grad()\n",
    "    loss = mse_f(model, x_f, y_f, a, k) + mse_b(model, x_b, y_b)\n",
    "    loss.backward(retain_graph=True)\n",
    "    global iter\n",
    "    iter += 1\n",
    "    if iter % 100 == 0:\n",
    "        print(f\"LBFGS - Loss: {loss.item()}\")\n",
    "    return loss"
   ]
  },
  {
   "cell_type": "code",
   "execution_count": 6,
   "metadata": {},
   "outputs": [],
   "source": [
    "def train_adam(model, x_f, y_f, x_b, y_b, a, k, num_iter=1_000):\n",
    "\n",
    "    optimizer = torch.optim.Adam(model.parameters(), lr=1e-3)\n",
    "    global iter\n",
    "     \n",
    "    for i in range(1, num_iter + 1):\n",
    "        optimizer.zero_grad()\n",
    "        loss = mse_f(model, x_f, y_f, a, k) + mse_b(model, x_b, y_b)\n",
    "        loss.backward(retain_graph=True)\n",
    "        optimizer.step()\n",
    "        iter += 1\n",
    "        if iter % 100 == 0:\n",
    "            print(f\"Adam - Loss: {loss.item()}\")"
   ]
  },
  {
   "cell_type": "code",
   "execution_count": 7,
   "metadata": {},
   "outputs": [],
   "source": [
    "# Function for L-BFGS training\n",
    "def train_lbfgs(model,x_f, y_f, x_b, y_b, a, k, num_iter=1_000):\n",
    "\n",
    "    optimizer = torch.optim.LBFGS(model.parameters(),\n",
    "                                    lr=1,\n",
    "                                    max_iter=num_iter,\n",
    "                                    max_eval=num_iter,\n",
    "                                    tolerance_grad=1e-7,\n",
    "                                    history_size=100,\n",
    "                                    tolerance_change=1.0 * np.finfo(float).eps,\n",
    "                                    line_search_fn=\"strong_wolfe\")\n",
    " \n",
    "    closure_fn = partial(closure, model, optimizer, x_f, y_f, x_b, y_b, a, k)\n",
    "    optimizer.step(closure_fn)"
   ]
  },
  {
   "cell_type": "code",
   "execution_count": 8,
   "metadata": {},
   "outputs": [
    {
     "name": "stdout",
     "output_type": "stream",
     "text": [
      "LBFGS - Loss: 2.1574625968933105\n",
      "LBFGS - Loss: 0.20991231501102448\n",
      "LBFGS - Loss: 0.026446633040905\n",
      "LBFGS - Loss: 0.003397165099158883\n",
      "LBFGS - Loss: 0.0008645183406770229\n",
      "LBFGS - Loss: 0.0004186534497421235\n",
      "LBFGS - Loss: 0.0002320825878996402\n",
      "LBFGS - Loss: 0.00016089790733531117\n",
      "LBFGS - Loss: 0.00011220160376979038\n",
      "LBFGS - Loss: 8.761185745242983e-05\n"
     ]
    }
   ],
   "source": [
    "device = torch.device('cuda')\n",
    "\n",
    "# Initialize iteration counter\n",
    "iter = 0  \n",
    "# define the parameters\n",
    "a = 2\n",
    "k = 2\n",
    "\n",
    "# Define lower and upper bounds for the domain\n",
    "lb = np.array([0.0, 0.0])\n",
    "ub = np.array([np.pi, np.pi])  \n",
    "N_b = 100  \n",
    "N_f = 10_000 \n",
    "c_f = lb + (ub-lb)*lhs(2, N_f)\n",
    "x_f = torch.from_numpy(c_f[:, 0]).float().reshape(-1,1).to(device)\n",
    "x_f.requires_grad = True\n",
    "y_f = torch.from_numpy(c_f[:, 1]).float().reshape(-1,1).to(device)\n",
    "y_f.requires_grad = True\n",
    "\n",
    "c_b = lb + (ub-lb)*lhs(2, N_b)\n",
    "x_b = torch.from_numpy(c_b[:, 0]).float().reshape(-1,1).to(device)\n",
    "x_b.requires_grad = True\n",
    "y_b = torch.from_numpy(c_b[:, 1]).float().reshape(-1,1).to(device)\n",
    "y_b.requires_grad = True\n",
    "\n",
    "# Initialize the model with specified parameters and apply weights\n",
    "model = MLP(input_size=2, output_size=1, hidden_layers=5, hidden_units=100, activation_function=nn.Tanh()).to(device)\n",
    "model.apply(init_weights)\n",
    "\n",
    "train_adam(model, x_f, y_f, x_b, y_b, a, k, num_iter=0)\n",
    "train_lbfgs(model, x_f, y_f, x_b, y_b, a, k, num_iter=1_000)\n"
   ]
  },
  {
   "cell_type": "code",
   "execution_count": 9,
   "metadata": {},
   "outputs": [
    {
     "data": {
      "image/png": "[encoded data removed]",
      "text/plain": [
       "<Figure size 600x400 with 2 Axes>"
      ]
     },
     "metadata": {},
     "output_type": "display_data"
    }
   ],
   "source": [
    "# Número de onda\n",
    "a = 2\n",
    "k = 2\n",
    "\n",
    "# Número de muestras en x y y\n",
    "dom_samples = 100\n",
    "x = np.linspace(0, np.pi, dom_samples)\n",
    "y = np.linspace(0, np.pi, dom_samples)\n",
    "\n",
    "# Malla del dominio\n",
    "X, Y = np.meshgrid(x, y)\n",
    "\n",
    "def u_exact(x, y, k):\n",
    "    return np.sin(a*x)*np.sin(k*y)\n",
    "\n",
    "# Mostrar la solución exacta u(x, y)\n",
    "plt.figure(figsize=(6, 4))  \n",
    "img = plt.contourf(u_exact(X, Y, k), cmap='magma')\n",
    "plt.colorbar(img, label='$u(x,y)$')   \n",
    "plt.xlabel(r'$x$')   \n",
    "plt.ylabel(r'$y$')\n",
    "plt.axis(\"image\")\n",
    "plt.grid(False)"
   ]
  },
  {
   "cell_type": "code",
   "execution_count": 10,
   "metadata": {},
   "outputs": [
    {
     "data": {
      "image/png": "[encoded data removed]",
      "text/plain": [
       "<Figure size 800x400 with 4 Axes>"
      ]
     },
     "metadata": {},
     "output_type": "display_data"
    }
   ],
   "source": [
    "# Convertir los datos X e Y a tensores de PyTorch y cambiar su forma\n",
    "X_ten = torch.tensor(X).float().reshape(-1, 1).to(device)\n",
    "Y_ten = torch.tensor(Y).float().reshape(-1, 1).to(device)\n",
    "\n",
    "# Concatenar los tensores X e Y en un solo tensor\n",
    "domain_ten = torch.cat([X_ten,Y_ten], dim = 1) \n",
    "\n",
    "# Generar predicciones usando la red neuronal y cambiar la forma para que coincida con la cuadrícula\n",
    "U_pred = model(domain_ten).detach().cpu().numpy().reshape(X.shape)\n",
    "\n",
    "plt.figure(figsize=(8, 4))\n",
    "\n",
    "plt.subplot(1, 2, 1)\n",
    "plt.contourf(X, Y, u_exact(X, Y,k), cmap='magma')\n",
    "plt.colorbar(shrink=0.8)\n",
    "plt.xlabel('$x$')\n",
    "plt.ylabel('$y$')\n",
    "plt.title(\"Solución analítica\")\n",
    "plt.axis(\"image\")\n",
    "plt.grid(False)\n",
    "\n",
    "plt.subplot(1, 2, 2)\n",
    "plt.contourf(X, Y, U_pred, cmap='magma')\n",
    "plt.colorbar(shrink=0.8)\n",
    "plt.xlabel('$x$')\n",
    "plt.ylabel('$y$')\n",
    "plt.title(\"Solución aproximada\")\n",
    "plt.axis(\"image\")\n",
    "plt.grid(False)\n",
    "\n",
    "plt.tight_layout()"
   ]
  },
  {
   "cell_type": "code",
   "execution_count": null,
   "metadata": {},
   "outputs": [],
   "source": []
  }
 ],
 "metadata": {
  "kernelspec": {
   "display_name": "scattering-problem-env",
   "language": "python",
   "name": "python3"
  },
  "language_info": {
   "codemirror_mode": {
    "name": "ipython",
    "version": 3
   },
   "file_extension": ".py",
   "mimetype": "text/x-python",
   "name": "python",
   "nbconvert_exporter": "python",
   "pygments_lexer": "ipython3",
   "version": "3.12.6"
  }
 },
 "nbformat": 4,
 "nbformat_minor": 2
}
