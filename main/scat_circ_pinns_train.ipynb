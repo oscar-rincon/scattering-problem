{
 "cells": [
  {
   "cell_type": "code",
   "execution_count": null,
   "metadata": {},
   "outputs": [
    {
     "name": "stderr",
     "output_type": "stream",
     "text": [
      "[autoreload of pinns_scat_circ failed: Traceback (most recent call last):\n",
      "  File \"/home/orincon/miniconda3/envs/scattering-problem-env/lib/python3.12/site-packages/IPython/extensions/autoreload.py\", line 276, in check\n",
      "    superreload(m, reload, self.old_objects)\n",
      "  File \"/home/orincon/miniconda3/envs/scattering-problem-env/lib/python3.12/site-packages/IPython/extensions/autoreload.py\", line 475, in superreload\n",
      "    module = reload(module)\n",
      "             ^^^^^^^^^^^^^^\n",
      "  File \"/home/orincon/miniconda3/envs/scattering-problem-env/lib/python3.12/importlib/__init__.py\", line 131, in reload\n",
      "    _bootstrap._exec(spec, module)\n",
      "  File \"<frozen importlib._bootstrap>\", line 866, in _exec\n",
      "  File \"<frozen importlib._bootstrap_external>\", line 991, in exec_module\n",
      "  File \"<frozen importlib._bootstrap_external>\", line 1129, in get_code\n",
      "  File \"<frozen importlib._bootstrap_external>\", line 1059, in source_to_code\n",
      "  File \"<frozen importlib._bootstrap>\", line 488, in _call_with_frames_removed\n",
      "  File \"/home/orincon/scattering-problem/main/pinns_scat_circ.py\", line 221\n",
      "    def train_adam(model, x_f, y_f, x_inner, y_inner, x_left, y_left, x_right, y_right, x_bottom, y_bottom, x_top, y_top, k, num_iter=5_000,iter):\n",
      "                                                                                                                                            ^^^^\n",
      "SyntaxError: parameter without a default follows parameter with a default\n",
      "]\n"
     ]
    },
    {
     "ename": "SyntaxError",
     "evalue": "positional argument follows keyword argument (1538587917.py, line 36)",
     "output_type": "error",
     "traceback": [
      "\u001b[0;36m  Cell \u001b[0;32mIn[24], line 36\u001b[0;36m\u001b[0m\n\u001b[0;31m    train_adam(model, x_f, y_f, x_inner, y_inner, x_left, y_left, x_right, y_right, x_bottom, y_bottom, x_top, y_top, k, num_iter=2,iter)\u001b[0m\n\u001b[0m                                                                                                                                        ^\u001b[0m\n\u001b[0;31mSyntaxError\u001b[0m\u001b[0;31m:\u001b[0m positional argument follows keyword argument\n"
     ]
    }
   ],
   "source": [
    "import torch\n",
    "import numpy as np\n",
    "import time\n",
    "import torch.nn as nn\n",
    "from pinns_scat_circ import generate_points\n",
    "from pinns_scat_circ import MLP\n",
    "from pinns_scat_circ import init_weights\n",
    "from pinns_scat_circ import train_adam\n",
    "from pinns_scat_circ import train_lbfgs\n",
    "\n",
    "# Example usage\n",
    "r_i = np.pi / 4  # Inner radius\n",
    "l_e = np.pi  # Outer radius\n",
    "k = 3.0  # Wave number\n",
    "n_Omega_P = 5_000  # Number of points inside the annular region\n",
    "n_Gamma_I = 100  # Number of points on the inner boundary (r = r_i)\n",
    "n_Gamma_E = 200  # Number of points on the outer boundary (r = r_e)\n",
    "\n",
    "# Default to CUDA if available, otherwise CPU\n",
    "device = torch.device('cuda') if torch.cuda.is_available() else torch.device('cpu')\n",
    "\n",
    "# Initialize the iteration counter\n",
    "iter = 0\n",
    "side_length = 2 * l_e  # Side length of the square\n",
    "\n",
    "# Generate points for the annular region and boundaries\n",
    "x_f, y_f, x_inner, y_inner, x_left, y_left, x_right, y_right, x_bottom, y_bottom, x_top, y_top = generate_points(n_Omega_P, side_length, r_i, n_Gamma_I, n_Gamma_E)\n",
    "\n",
    "\n",
    "# Initialize the model\n",
    "model = MLP(input_size=2, output_size=2, hidden_layers=3, hidden_units=350, activation_function=nn.Tanh()).to(device)\n",
    "model.apply(init_weights)\n",
    "\n",
    "# Training with Adam optimizer\n",
    "start_time_adam = time.time()\n",
    "train_adam(model, x_f, y_f, x_inner, y_inner, x_left, y_left, x_right, y_right, x_bottom, y_bottom, x_top, y_top, k, num_iter=2)\n",
    "end_time_adam = time.time()\n",
    "adam_training_time = end_time_adam - start_time_adam\n",
    "print(f\"Adam training time: {adam_training_time:.6e} seconds\")\n",
    "\n",
    "# Training with L-BFGS optimizer\n",
    "start_time_lbfgs = time.time()\n",
    "train_lbfgs(model, x_f, y_f, x_inner, y_inner, x_left, y_left, x_right, y_right, x_bottom, y_bottom, x_top, y_top, k, num_iter=1)\n",
    "end_time_lbfgs = time.time()\n",
    "lbfgs_training_time = end_time_lbfgs - start_time_lbfgs\n",
    "print(f\"LBFGS training time: {lbfgs_training_time:.6e} seconds\")\n",
    "\n",
    "# Total training time\n",
    "total_training_time = adam_training_time + lbfgs_training_time\n",
    "print(f\"Total training time: {total_training_time:.6e} seconds\")\n",
    "\n",
    "# Save the trained model\n",
    "torch.save(model.state_dict(), f'Scattering.pt')"
   ]
  }
 ],
 "metadata": {
  "kernelspec": {
   "display_name": "scattering-problem-env",
   "language": "python",
   "name": "python3"
  },
  "language_info": {
   "codemirror_mode": {
    "name": "ipython",
    "version": 3
   },
   "file_extension": ".py",
   "mimetype": "text/x-python",
   "name": "python",
   "nbconvert_exporter": "python",
   "pygments_lexer": "ipython3",
   "version": "3.12.6"
  }
 },
 "nbformat": 4,
 "nbformat_minor": 2
}
