{
 "cells": [
  {
   "cell_type": "code",
   "execution_count": 8,
   "metadata": {},
   "outputs": [],
   "source": [
    "import numpy as np\n",
    "import numpy.ma as ma\n",
    "from scipy.special import jn, hankel2\n",
    "from matplotlib import pyplot as plt\n",
    "from numpy import (mgrid, ceil, amin, amax, cos, zeros_like,\n",
    "                   pi, exp, sqrt, arctan2, log10)\n",
    "from scipy.fft import ifft\n",
    "from scipy.fft import fftshift\n",
    "from matplotlib.colors import LightSource"
   ]
  },
  {
   "cell_type": "code",
   "execution_count": 14,
   "metadata": {},
   "outputs": [],
   "source": [
    "def u(nmax, k, a, r, theta):\n",
    "    u = zeros_like(k)\n",
    "    for n in range(nmax, -1, -1):\n",
    "        if n==0:\n",
    "            an = -jn(1, k*a)/hankel2(1, k*a)\n",
    "            en = 1.0\n",
    "        else:\n",
    "            an = -2.0*(-1.0)**n*((jn(n + 1, k*a) - jn(n - 1, k*a))/\n",
    "                 (hankel2(n + 1, k*a) - hankel2(n - 1, k*a)))\n",
    "            en = 2.0\n",
    "        usn = an*1.0j**n*hankel2(n,k*r)*cos(n*theta)\n",
    "        uin = en*1.0j**n*jn(n,-k*r)*cos(n*theta)\n",
    "        u = u + usn + uin\n",
    "    return u\n",
    "\n",
    "def gen_disp(r, theta, k, nmax=50):\n",
    "    return  u(nmax, k, 0.1, r, theta)"
   ]
  },
  {
   "cell_type": "code",
   "execution_count": 15,
   "metadata": {},
   "outputs": [
    {
     "ename": "KeyboardInterrupt",
     "evalue": "",
     "output_type": "error",
     "traceback": [
      "\u001b[0;31m---------------------------------------------------------------------------\u001b[0m",
      "\u001b[0;31mKeyboardInterrupt\u001b[0m                         Traceback (most recent call last)",
      "Cell \u001b[0;32mIn[15], line 5\u001b[0m\n\u001b[1;32m      3\u001b[0m Theta \u001b[38;5;241m=\u001b[39m np\u001b[38;5;241m.\u001b[39marctan2(Y, X)\n\u001b[1;32m      4\u001b[0m k \u001b[38;5;241m=\u001b[39m \u001b[38;5;241m1.0\u001b[39m\n\u001b[0;32m----> 5\u001b[0m disp \u001b[38;5;241m=\u001b[39m \u001b[43mgen_disp\u001b[49m\u001b[43m(\u001b[49m\u001b[43mR\u001b[49m\u001b[43m,\u001b[49m\u001b[43m \u001b[49m\u001b[43mTheta\u001b[49m\u001b[43m,\u001b[49m\u001b[43m \u001b[49m\u001b[43mk\u001b[49m\u001b[43m)\u001b[49m\n\u001b[1;32m      6\u001b[0m savefig \u001b[38;5;241m=\u001b[39m \u001b[38;5;28;01mFalse\u001b[39;00m\n",
      "Cell \u001b[0;32mIn[14], line 17\u001b[0m, in \u001b[0;36mgen_disp\u001b[0;34m(r, theta, k, nmax)\u001b[0m\n\u001b[1;32m     16\u001b[0m \u001b[38;5;28;01mdef\u001b[39;00m \u001b[38;5;21mgen_disp\u001b[39m(r, theta, k, nmax\u001b[38;5;241m=\u001b[39m\u001b[38;5;241m50\u001b[39m):\n\u001b[0;32m---> 17\u001b[0m     \u001b[38;5;28;01mreturn\u001b[39;00m  \u001b[43mu\u001b[49m\u001b[43m(\u001b[49m\u001b[43mnmax\u001b[49m\u001b[43m,\u001b[49m\u001b[43m \u001b[49m\u001b[43mk\u001b[49m\u001b[43m,\u001b[49m\u001b[43m \u001b[49m\u001b[38;5;241;43m0.1\u001b[39;49m\u001b[43m,\u001b[49m\u001b[43m \u001b[49m\u001b[43mr\u001b[49m\u001b[43m,\u001b[49m\u001b[43m \u001b[49m\u001b[43mtheta\u001b[49m\u001b[43m)\u001b[49m\n",
      "Cell \u001b[0;32mIn[14], line 11\u001b[0m, in \u001b[0;36mu\u001b[0;34m(nmax, k, a, r, theta)\u001b[0m\n\u001b[1;32m      8\u001b[0m     an \u001b[38;5;241m=\u001b[39m \u001b[38;5;241m-\u001b[39m\u001b[38;5;241m2.0\u001b[39m\u001b[38;5;241m*\u001b[39m(\u001b[38;5;241m-\u001b[39m\u001b[38;5;241m1.0\u001b[39m)\u001b[38;5;241m*\u001b[39m\u001b[38;5;241m*\u001b[39mn\u001b[38;5;241m*\u001b[39m((jn(n \u001b[38;5;241m+\u001b[39m \u001b[38;5;241m1\u001b[39m, k\u001b[38;5;241m*\u001b[39ma) \u001b[38;5;241m-\u001b[39m jn(n \u001b[38;5;241m-\u001b[39m \u001b[38;5;241m1\u001b[39m, k\u001b[38;5;241m*\u001b[39ma))\u001b[38;5;241m/\u001b[39m\n\u001b[1;32m      9\u001b[0m          (hankel2(n \u001b[38;5;241m+\u001b[39m \u001b[38;5;241m1\u001b[39m, k\u001b[38;5;241m*\u001b[39ma) \u001b[38;5;241m-\u001b[39m hankel2(n \u001b[38;5;241m-\u001b[39m \u001b[38;5;241m1\u001b[39m, k\u001b[38;5;241m*\u001b[39ma)))\n\u001b[1;32m     10\u001b[0m     en \u001b[38;5;241m=\u001b[39m \u001b[38;5;241m2.0\u001b[39m\n\u001b[0;32m---> 11\u001b[0m usn \u001b[38;5;241m=\u001b[39m an\u001b[38;5;241m*\u001b[39m\u001b[38;5;241m1.0\u001b[39mj\u001b[38;5;241m*\u001b[39m\u001b[38;5;241m*\u001b[39mn\u001b[38;5;241m*\u001b[39m\u001b[43mhankel2\u001b[49m\u001b[43m(\u001b[49m\u001b[43mn\u001b[49m\u001b[43m,\u001b[49m\u001b[43mk\u001b[49m\u001b[38;5;241;43m*\u001b[39;49m\u001b[43mr\u001b[49m\u001b[43m)\u001b[49m\u001b[38;5;241m*\u001b[39mcos(n\u001b[38;5;241m*\u001b[39mtheta)\n\u001b[1;32m     12\u001b[0m uin \u001b[38;5;241m=\u001b[39m en\u001b[38;5;241m*\u001b[39m\u001b[38;5;241m1.0\u001b[39mj\u001b[38;5;241m*\u001b[39m\u001b[38;5;241m*\u001b[39mn\u001b[38;5;241m*\u001b[39mjn(n,\u001b[38;5;241m-\u001b[39mk\u001b[38;5;241m*\u001b[39mr)\u001b[38;5;241m*\u001b[39mcos(n\u001b[38;5;241m*\u001b[39mtheta)\n\u001b[1;32m     13\u001b[0m u \u001b[38;5;241m=\u001b[39m u \u001b[38;5;241m+\u001b[39m usn \u001b[38;5;241m+\u001b[39m uin\n",
      "\u001b[0;31mKeyboardInterrupt\u001b[0m: "
     ]
    }
   ],
   "source": [
    "Y, X = np.mgrid[-10:10:501j, -10:10:501j]\n",
    "R = np.sqrt(X**2 + Y**2)\n",
    "Theta = np.arctan2(Y, X)\n",
    "k = 1.0\n",
    "disp = gen_disp(R, Theta, k)\n",
    "savefig = False"
   ]
  },
  {
   "cell_type": "code",
   "execution_count": 13,
   "metadata": {},
   "outputs": [
    {
     "data": {
      "image/png": "[encoded data removed]",
      "text/plain": [
       "<Figure size 600x400 with 4 Axes>"
      ]
     },
     "metadata": {},
     "output_type": "display_data"
    }
   ],
   "source": [
    "amp = ma.masked_where(R<1.0, np.real(disp))\n",
    "phase = ma.masked_where(R<1.0, np.angle(disp))\n",
    "\n",
    "plt.figure(figsize=(6, 4))\n",
    "plt.subplot(1, 2, 1)\n",
    "plt.pcolormesh(X, Y, amp, cmap=\"RdYlBu\", vmin=-1, vmax=1)\n",
    "cb = plt.colorbar(shrink=0.8, orientation=\"horizontal\")\n",
    "cb.set_label(\"Amplitude\")\n",
    "cb.set_ticks([-1, 0, 1])\n",
    "plt.axis(\"image\")\n",
    "plt.yticks([])\n",
    "plt.xticks([])\n",
    "\n",
    "plt.subplot(1, 2, 2)\n",
    "plt.pcolormesh(X, Y, phase, cmap=\"twilight_shifted\", vmin=-np.pi,\n",
    "               vmax=np.pi)\n",
    "cb = plt.colorbar(shrink=0.8, orientation=\"horizontal\")\n",
    "cb.set_label(\"Phase\")\n",
    "cb.set_ticks([-np.pi, 0, np.pi])\n",
    "cb.set_ticklabels([r\"$-\\pi$\", r\"$0$\", r\"$\\pi$\"])\n",
    "plt.axis(\"image\")\n",
    "plt.yticks([])\n",
    "plt.xticks([])\n",
    "plt.show()"
   ]
  },
  {
   "cell_type": "code",
   "execution_count": null,
   "metadata": {},
   "outputs": [],
   "source": []
  }
 ],
 "metadata": {
  "kernelspec": {
   "display_name": "scattering-problem-env",
   "language": "python",
   "name": "python3"
  },
  "language_info": {
   "codemirror_mode": {
    "name": "ipython",
    "version": 3
   },
   "file_extension": ".py",
   "mimetype": "text/x-python",
   "name": "python",
   "nbconvert_exporter": "python",
   "pygments_lexer": "ipython3",
   "version": "3.12.6"
  }
 },
 "nbformat": 4,
 "nbformat_minor": 2
}
